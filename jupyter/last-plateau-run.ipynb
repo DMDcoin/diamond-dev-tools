{
 "cells": [
  {
   "cell_type": "code",
   "execution_count": 72,
   "metadata": {},
   "outputs": [],
   "source": [
    "# this script can be used to analye the blocks from find-plateau scripts\n",
    "\n",
    "\n",
    "import numpy as np\n",
    "import pandas as pd\n",
    "import matplotlib.pyplot as plt"
   ]
  },
  {
   "cell_type": "code",
   "execution_count": 73,
   "metadata": {},
   "outputs": [],
   "source": [
    "filepath = 'data/hbbft/plateau/find-plateau.csv'\n",
    "df = pd.read_csv(filepath)"
   ]
  },
  {
   "cell_type": "code",
   "execution_count": 74,
   "metadata": {},
   "outputs": [
    {
     "data": {
      "text/html": [
       "<div>\n",
       "<style scoped>\n",
       "    .dataframe tbody tr th:only-of-type {\n",
       "        vertical-align: middle;\n",
       "    }\n",
       "\n",
       "    .dataframe tbody tr th {\n",
       "        vertical-align: top;\n",
       "    }\n",
       "\n",
       "    .dataframe thead th {\n",
       "        text-align: right;\n",
       "    }\n",
       "</style>\n",
       "<table border=\"1\" class=\"dataframe\">\n",
       "  <thead>\n",
       "    <tr style=\"text-align: right;\">\n",
       "      <th></th>\n",
       "      <th>tx_per_account</th>\n",
       "      <th>num_of_accounts</th>\n",
       "      <th>total_txs</th>\n",
       "      <th>number_of_blocks</th>\n",
       "      <th>sum_of_block_time</th>\n",
       "      <th>blockStart</th>\n",
       "      <th>blockEnd</th>\n",
       "      <th>block_per_second</th>\n",
       "      <th>txs_per_second</th>\n",
       "    </tr>\n",
       "  </thead>\n",
       "  <tbody>\n",
       "    <tr>\n",
       "      <th>44</th>\n",
       "      <td>45</td>\n",
       "      <td>50</td>\n",
       "      <td>2250</td>\n",
       "      <td>15</td>\n",
       "      <td>44</td>\n",
       "      <td>794</td>\n",
       "      <td>809</td>\n",
       "      <td>0.3409</td>\n",
       "      <td>51.14</td>\n",
       "    </tr>\n",
       "    <tr>\n",
       "      <th>45</th>\n",
       "      <td>46</td>\n",
       "      <td>50</td>\n",
       "      <td>2300</td>\n",
       "      <td>14</td>\n",
       "      <td>43</td>\n",
       "      <td>809</td>\n",
       "      <td>823</td>\n",
       "      <td>0.3256</td>\n",
       "      <td>53.49</td>\n",
       "    </tr>\n",
       "    <tr>\n",
       "      <th>46</th>\n",
       "      <td>47</td>\n",
       "      <td>50</td>\n",
       "      <td>2350</td>\n",
       "      <td>16</td>\n",
       "      <td>45</td>\n",
       "      <td>823</td>\n",
       "      <td>839</td>\n",
       "      <td>0.3556</td>\n",
       "      <td>52.22</td>\n",
       "    </tr>\n",
       "    <tr>\n",
       "      <th>47</th>\n",
       "      <td>48</td>\n",
       "      <td>50</td>\n",
       "      <td>2400</td>\n",
       "      <td>16</td>\n",
       "      <td>45</td>\n",
       "      <td>839</td>\n",
       "      <td>855</td>\n",
       "      <td>0.3556</td>\n",
       "      <td>53.33</td>\n",
       "    </tr>\n",
       "    <tr>\n",
       "      <th>48</th>\n",
       "      <td>49</td>\n",
       "      <td>50</td>\n",
       "      <td>2450</td>\n",
       "      <td>16</td>\n",
       "      <td>16</td>\n",
       "      <td>855</td>\n",
       "      <td>871</td>\n",
       "      <td>1.0000</td>\n",
       "      <td>153.10</td>\n",
       "    </tr>\n",
       "  </tbody>\n",
       "</table>\n",
       "</div>"
      ],
      "text/plain": [
       "    tx_per_account  num_of_accounts  total_txs  number_of_blocks  \\\n",
       "44              45               50       2250                15   \n",
       "45              46               50       2300                14   \n",
       "46              47               50       2350                16   \n",
       "47              48               50       2400                16   \n",
       "48              49               50       2450                16   \n",
       "\n",
       "    sum_of_block_time  blockStart  blockEnd  block_per_second  txs_per_second  \n",
       "44                 44         794       809            0.3409           51.14  \n",
       "45                 43         809       823            0.3256           53.49  \n",
       "46                 45         823       839            0.3556           52.22  \n",
       "47                 45         839       855            0.3556           53.33  \n",
       "48                 16         855       871            1.0000          153.10  "
      ]
     },
     "execution_count": 74,
     "metadata": {},
     "output_type": "execute_result"
    }
   ],
   "source": [
    "df.tail()"
   ]
  },
  {
   "cell_type": "code",
   "execution_count": 71,
   "metadata": {},
   "outputs": [
    {
     "data": {
      "text/plain": [
       "[<matplotlib.lines.Line2D at 0x7ff1c690abe0>]"
      ]
     },
     "execution_count": 71,
     "metadata": {},
     "output_type": "execute_result"
    },
    {
     "data": {
      "image/png": "[encoded data removed]",
      "text/plain": [
       "<Figure size 432x288 with 1 Axes>"
      ]
     },
     "metadata": {
      "needs_background": "light"
     },
     "output_type": "display_data"
    }
   ],
   "source": [
    "plt.plot(df.txs_per_second)\n"
   ]
  }
 ],
 "metadata": {
  "kernelspec": {
   "display_name": "Python 3",
   "language": "python",
   "name": "python3"
  },
  "language_info": {
   "codemirror_mode": {
    "name": "ipython",
    "version": 3
   },
   "file_extension": ".py",
   "mimetype": "text/x-python",
   "name": "python",
   "nbconvert_exporter": "python",
   "pygments_lexer": "ipython3",
   "version": "3.6.9"
  }
 },
 "nbformat": 4,
 "nbformat_minor": 4
}
