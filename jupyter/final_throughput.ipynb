{
 "cells": [
  {
   "cell_type": "code",
   "execution_count": 121,
   "metadata": {},
   "outputs": [],
   "source": [
    "# testalgo = 'hbbft'\n",
    "testrun = 'final'\n",
    "testname = 'throughput2'\n",
    "\n",
    "import numpy as np\n",
    "import pandas as pd\n",
    "import matplotlib.pyplot as plt"
   ]
  },
  {
   "cell_type": "code",
   "execution_count": 122,
   "metadata": {},
   "outputs": [],
   "source": [
    "# We use larger plot areas, adjust to your needs.\n",
    "plt.rcParams[\"figure.figsize\"] = (15, 7)"
   ]
  },
  {
   "cell_type": "code",
   "execution_count": 123,
   "metadata": {},
   "outputs": [
    {
     "data": {
      "text/html": [
       "<div>\n",
       "<style scoped>\n",
       "    .dataframe tbody tr th:only-of-type {\n",
       "        vertical-align: middle;\n",
       "    }\n",
       "\n",
       "    .dataframe tbody tr th {\n",
       "        vertical-align: top;\n",
       "    }\n",
       "\n",
       "    .dataframe thead th {\n",
       "        text-align: right;\n",
       "    }\n",
       "</style>\n",
       "<table border=\"1\" class=\"dataframe\">\n",
       "  <thead>\n",
       "    <tr style=\"text-align: right;\">\n",
       "      <th></th>\n",
       "      <th>blockNumber</th>\n",
       "      <th>numberOfTransactions</th>\n",
       "      <th>gasUsed</th>\n",
       "      <th>timestamp</th>\n",
       "      <th>size</th>\n",
       "      <th>blockTime</th>\n",
       "      <th>txs</th>\n",
       "      <th>blockTimeSinceStart</th>\n",
       "    </tr>\n",
       "  </thead>\n",
       "  <tbody>\n",
       "    <tr>\n",
       "      <th>0</th>\n",
       "      <td>13049</td>\n",
       "      <td>6</td>\n",
       "      <td>126000</td>\n",
       "      <td>1585951074</td>\n",
       "      <td>1211</td>\n",
       "      <td>NaN</td>\n",
       "      <td>NaN</td>\n",
       "      <td>0</td>\n",
       "    </tr>\n",
       "    <tr>\n",
       "      <th>1</th>\n",
       "      <td>13050</td>\n",
       "      <td>168</td>\n",
       "      <td>3528000</td>\n",
       "      <td>1585951075</td>\n",
       "      <td>18219</td>\n",
       "      <td>1.0</td>\n",
       "      <td>168.000000</td>\n",
       "      <td>1</td>\n",
       "    </tr>\n",
       "    <tr>\n",
       "      <th>2</th>\n",
       "      <td>13051</td>\n",
       "      <td>248</td>\n",
       "      <td>5208000</td>\n",
       "      <td>1585951076</td>\n",
       "      <td>26619</td>\n",
       "      <td>1.0</td>\n",
       "      <td>248.000000</td>\n",
       "      <td>2</td>\n",
       "    </tr>\n",
       "    <tr>\n",
       "      <th>3</th>\n",
       "      <td>13052</td>\n",
       "      <td>356</td>\n",
       "      <td>7476000</td>\n",
       "      <td>1585951077</td>\n",
       "      <td>37957</td>\n",
       "      <td>1.0</td>\n",
       "      <td>356.000000</td>\n",
       "      <td>3</td>\n",
       "    </tr>\n",
       "    <tr>\n",
       "      <th>4</th>\n",
       "      <td>13053</td>\n",
       "      <td>432</td>\n",
       "      <td>9072000</td>\n",
       "      <td>1585951078</td>\n",
       "      <td>45937</td>\n",
       "      <td>1.0</td>\n",
       "      <td>432.000000</td>\n",
       "      <td>4</td>\n",
       "    </tr>\n",
       "    <tr>\n",
       "      <th>...</th>\n",
       "      <td>...</td>\n",
       "      <td>...</td>\n",
       "      <td>...</td>\n",
       "      <td>...</td>\n",
       "      <td>...</td>\n",
       "      <td>...</td>\n",
       "      <td>...</td>\n",
       "      <td>...</td>\n",
       "    </tr>\n",
       "    <tr>\n",
       "      <th>66</th>\n",
       "      <td>13115</td>\n",
       "      <td>952</td>\n",
       "      <td>19992000</td>\n",
       "      <td>1585951346</td>\n",
       "      <td>100532</td>\n",
       "      <td>8.0</td>\n",
       "      <td>119.000000</td>\n",
       "      <td>272</td>\n",
       "    </tr>\n",
       "    <tr>\n",
       "      <th>67</th>\n",
       "      <td>13116</td>\n",
       "      <td>952</td>\n",
       "      <td>19992000</td>\n",
       "      <td>1585951355</td>\n",
       "      <td>100528</td>\n",
       "      <td>9.0</td>\n",
       "      <td>105.777778</td>\n",
       "      <td>281</td>\n",
       "    </tr>\n",
       "    <tr>\n",
       "      <th>68</th>\n",
       "      <td>13117</td>\n",
       "      <td>952</td>\n",
       "      <td>19992000</td>\n",
       "      <td>1585951365</td>\n",
       "      <td>100541</td>\n",
       "      <td>10.0</td>\n",
       "      <td>95.200000</td>\n",
       "      <td>291</td>\n",
       "    </tr>\n",
       "    <tr>\n",
       "      <th>69</th>\n",
       "      <td>13118</td>\n",
       "      <td>952</td>\n",
       "      <td>19992000</td>\n",
       "      <td>1585951373</td>\n",
       "      <td>100532</td>\n",
       "      <td>8.0</td>\n",
       "      <td>119.000000</td>\n",
       "      <td>299</td>\n",
       "    </tr>\n",
       "    <tr>\n",
       "      <th>70</th>\n",
       "      <td>13119</td>\n",
       "      <td>952</td>\n",
       "      <td>19992000</td>\n",
       "      <td>1585951384</td>\n",
       "      <td>100530</td>\n",
       "      <td>11.0</td>\n",
       "      <td>86.545455</td>\n",
       "      <td>310</td>\n",
       "    </tr>\n",
       "  </tbody>\n",
       "</table>\n",
       "<p>71 rows × 8 columns</p>\n",
       "</div>"
      ],
      "text/plain": [
       "    blockNumber  numberOfTransactions   gasUsed   timestamp    size  \\\n",
       "0         13049                     6    126000  1585951074    1211   \n",
       "1         13050                   168   3528000  1585951075   18219   \n",
       "2         13051                   248   5208000  1585951076   26619   \n",
       "3         13052                   356   7476000  1585951077   37957   \n",
       "4         13053                   432   9072000  1585951078   45937   \n",
       "..          ...                   ...       ...         ...     ...   \n",
       "66        13115                   952  19992000  1585951346  100532   \n",
       "67        13116                   952  19992000  1585951355  100528   \n",
       "68        13117                   952  19992000  1585951365  100541   \n",
       "69        13118                   952  19992000  1585951373  100532   \n",
       "70        13119                   952  19992000  1585951384  100530   \n",
       "\n",
       "    blockTime         txs  blockTimeSinceStart  \n",
       "0         NaN         NaN                    0  \n",
       "1         1.0  168.000000                    1  \n",
       "2         1.0  248.000000                    2  \n",
       "3         1.0  356.000000                    3  \n",
       "4         1.0  432.000000                    4  \n",
       "..        ...         ...                  ...  \n",
       "66        8.0  119.000000                  272  \n",
       "67        9.0  105.777778                  281  \n",
       "68       10.0   95.200000                  291  \n",
       "69        8.0  119.000000                  299  \n",
       "70       11.0   86.545455                  310  \n",
       "\n",
       "[71 rows x 8 columns]"
      ]
     },
     "execution_count": 123,
     "metadata": {},
     "output_type": "execute_result"
    }
   ],
   "source": [
    "\n",
    "def addCalcedColumns(df):\n",
    "    df['blockTime'] =  df.timestamp - df.shift(1).timestamp\n",
    "    df['txs'] = df.numberOfTransactions / df.blockTime\n",
    "    df['blockTimeSinceStart'] =  df.timestamp - df.timestamp.min()\n",
    "\n",
    "#blocksFile = 'data/' + testalgo + '/' + testrun + '/' + testname + '/blocks.log.csv'\n",
    "\n",
    "# blocksFile = 'data/hbbft/proofs/poolProtection/blocks.log.csv'\n",
    "\n",
    "blocksFileAura = 'data/aura/' + testrun + '/' + testname + '/blocks.blocks.csv'\n",
    "blocksFileHbbft = 'data/hbbft/' + testrun + '/' + testname + '/blocks.blocks.csv'\n",
    "\n",
    "\n",
    "dfAura = pd.read_csv(blocksFileAura)\n",
    "dfHbbft = pd.read_csv(blocksFileHbbft)\n",
    "\n",
    "\n",
    "addCalcedColumns(dfAura)\n",
    "addCalcedColumns(dfHbbft)\n",
    "\n",
    "\n",
    "# 1585951074\n",
    "\n",
    "dfHbbft\n",
    "#dfAura"
   ]
  },
  {
   "cell_type": "code",
   "execution_count": 128,
   "metadata": {},
   "outputs": [
    {
     "data": {
      "text/plain": [
       "<matplotlib.collections.PathCollection at 0x7f101076a8d0>"
      ]
     },
     "execution_count": 128,
     "metadata": {},
     "output_type": "execute_result"
    },
    {
     "data": {
      "image/png": "[encoded data removed]",
      "text/plain": [
       "<Figure size 1080x504 with 1 Axes>"
      ]
     },
     "metadata": {
      "needs_background": "light"
     },
     "output_type": "display_data"
    }
   ],
   "source": [
    "#blocktime chart.\n",
    "\n",
    "plt.scatter(dfHbbft.blockTimeSinceStart, dfHbbft.blockTime)\n",
    "plt.scatter(dfAura.blockTimeSinceStart, dfAura.blockTime)"
   ]
  },
  {
   "cell_type": "code",
   "execution_count": 129,
   "metadata": {},
   "outputs": [
    {
     "data": {
      "text/plain": [
       "<matplotlib.collections.PathCollection at 0x7f10106ce780>"
      ]
     },
     "execution_count": 129,
     "metadata": {},
     "output_type": "execute_result"
    },
    {
     "data": {
      "image/png": "[encoded data removed]",
      "text/plain": [
       "<Figure size 1080x504 with 1 Axes>"
      ]
     },
     "metadata": {
      "needs_background": "light"
     },
     "output_type": "display_data"
    }
   ],
   "source": [
    "#transactions per block.\n",
    "\n",
    "plt.scatter(dfHbbft.blockTimeSinceStart, dfHbbft.numberOfTransactions.rolling(window=1).mean())\n",
    "#plt.plot(dfHbbft.numberOfTransactions.rolling(window=9).mean())\n",
    "\n",
    "plt.scatter(dfAura.blockTimeSinceStart, dfAura.numberOfTransactions.rolling(window=1).mean())\n",
    "#plt.plot(dfAura.numberOfTransactions.rolling(window=9).mean())\n"
   ]
  },
  {
   "cell_type": "code",
   "execution_count": null,
   "metadata": {},
   "outputs": [],
   "source": []
  },
  {
   "cell_type": "code",
   "execution_count": 130,
   "metadata": {},
   "outputs": [
    {
     "data": {
      "text/plain": [
       "<matplotlib.collections.PathCollection at 0x7f10106b74a8>"
      ]
     },
     "execution_count": 130,
     "metadata": {},
     "output_type": "execute_result"
    },
    {
     "data": {
      "image/png": "[encoded data removed]",
      "text/plain": [
       "<Figure size 1080x504 with 1 Axes>"
      ]
     },
     "metadata": {
      "needs_background": "light"
     },
     "output_type": "display_data"
    }
   ],
   "source": [
    "#plt.plot(df3.txs)\n",
    "plt.scatter(dfHbbft.blockTimeSinceStart, dfHbbft.txs.rolling(window=1).mean())\n",
    "\n",
    "#plt.plot(df4.txs)\n",
    "plt.scatter(dfAura.blockTimeSinceStart, dfAura.txs.rolling(window=1).mean())\n"
   ]
  },
  {
   "cell_type": "code",
   "execution_count": 131,
   "metadata": {},
   "outputs": [
    {
     "data": {
      "text/plain": [
       "[<matplotlib.lines.Line2D at 0x7f1010669048>]"
      ]
     },
     "execution_count": 131,
     "metadata": {},
     "output_type": "execute_result"
    },
    {
     "data": {
      "image/png": "[encoded data removed]",
      "text/plain": [
       "<Figure size 1080x504 with 1 Axes>"
      ]
     },
     "metadata": {
      "needs_background": "light"
     },
     "output_type": "display_data"
    }
   ],
   "source": [
    "# transactions per second\n",
    "\n",
    "plt.plot(dfHbbft.blockTimeSinceStart, dfHbbft.txs.rolling(window=5).mean())\n",
    "plt.plot(dfAura.blockTimeSinceStart, dfAura.txs.rolling(window=5).mean())"
   ]
  },
  {
   "cell_type": "markdown",
   "metadata": {},
   "source": [
    "\n"
   ]
  },
  {
   "cell_type": "code",
   "execution_count": 72,
   "metadata": {},
   "outputs": [
    {
     "ename": "NameError",
     "evalue": "name 'df2' is not defined",
     "output_type": "error",
     "traceback": [
      "\u001b[0;31m---------------------------------------------------------------------------\u001b[0m",
      "\u001b[0;31mNameError\u001b[0m                                 Traceback (most recent call last)",
      "\u001b[0;32m<ipython-input-72-1b6975508c00>\u001b[0m in \u001b[0;36m<module>\u001b[0;34m\u001b[0m\n\u001b[0;32m----> 1\u001b[0;31m \u001b[0mdf2\u001b[0m\u001b[0;34m.\u001b[0m\u001b[0mtxs\u001b[0m\u001b[0;34m.\u001b[0m\u001b[0mmean\u001b[0m\u001b[0;34m(\u001b[0m\u001b[0;34m)\u001b[0m\u001b[0;34m\u001b[0m\u001b[0;34m\u001b[0m\u001b[0m\n\u001b[0m",
      "\u001b[0;31mNameError\u001b[0m: name 'df2' is not defined"
     ]
    }
   ],
   "source": []
  },
  {
   "cell_type": "code",
   "execution_count": 73,
   "metadata": {},
   "outputs": [
    {
     "ename": "NameError",
     "evalue": "name 'df3' is not defined",
     "output_type": "error",
     "traceback": [
      "\u001b[0;31m---------------------------------------------------------------------------\u001b[0m",
      "\u001b[0;31mNameError\u001b[0m                                 Traceback (most recent call last)",
      "\u001b[0;32m<ipython-input-73-20dee3e5b3d6>\u001b[0m in \u001b[0;36m<module>\u001b[0;34m\u001b[0m\n\u001b[0;32m----> 1\u001b[0;31m \u001b[0mdf3\u001b[0m\u001b[0;34m.\u001b[0m\u001b[0mtxs\u001b[0m\u001b[0;34m.\u001b[0m\u001b[0mmean\u001b[0m\u001b[0;34m(\u001b[0m\u001b[0;34m)\u001b[0m\u001b[0;34m\u001b[0m\u001b[0;34m\u001b[0m\u001b[0m\n\u001b[0m",
      "\u001b[0;31mNameError\u001b[0m: name 'df3' is not defined"
     ]
    }
   ],
   "source": []
  },
  {
   "cell_type": "code",
   "execution_count": 42,
   "metadata": {},
   "outputs": [
    {
     "ename": "NameError",
     "evalue": "name 'df4' is not defined",
     "output_type": "error",
     "traceback": [
      "\u001b[0;31m---------------------------------------------------------------------------\u001b[0m",
      "\u001b[0;31mNameError\u001b[0m                                 Traceback (most recent call last)",
      "\u001b[0;32m<ipython-input-42-a22e0f1f73cc>\u001b[0m in \u001b[0;36m<module>\u001b[0;34m\u001b[0m\n\u001b[0;32m----> 1\u001b[0;31m \u001b[0mdf4\u001b[0m\u001b[0;34m.\u001b[0m\u001b[0mtxs\u001b[0m\u001b[0;34m.\u001b[0m\u001b[0mmean\u001b[0m\u001b[0;34m(\u001b[0m\u001b[0;34m)\u001b[0m\u001b[0;34m\u001b[0m\u001b[0;34m\u001b[0m\u001b[0m\n\u001b[0m",
      "\u001b[0;31mNameError\u001b[0m: name 'df4' is not defined"
     ]
    }
   ],
   "source": []
  },
  {
   "cell_type": "code",
   "execution_count": null,
   "metadata": {},
   "outputs": [],
   "source": []
  },
  {
   "cell_type": "code",
   "execution_count": null,
   "metadata": {},
   "outputs": [],
   "source": []
  }
 ],
 "metadata": {
  "kernelspec": {
   "display_name": "Python 3",
   "language": "python",
   "name": "python3"
  },
  "language_info": {
   "codemirror_mode": {
    "name": "ipython",
    "version": 3
   },
   "file_extension": ".py",
   "mimetype": "text/x-python",
   "name": "python",
   "nbconvert_exporter": "python",
   "pygments_lexer": "ipython3",
   "version": "3.6.9"
  }
 },
 "nbformat": 4,
 "nbformat_minor": 4
}
