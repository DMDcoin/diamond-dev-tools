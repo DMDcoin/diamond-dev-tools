{
 "cells": [
  {
   "cell_type": "code",
   "execution_count": 39,
   "metadata": {},
   "outputs": [],
   "source": [
    "testrun = 'run1'\n",
    "testname = 'throughput1' #'latency1'\n",
    "testStat = 'throughput_single.transactions' #'latency_5m_single_transactions.transactions'\n",
    "\n",
    "import numpy as np\n",
    "import pandas as pd\n",
    "import matplotlib.pyplot as plt"
   ]
  },
  {
   "cell_type": "code",
   "execution_count": 40,
   "metadata": {},
   "outputs": [],
   "source": [
    "# We use larger plot areas, adjust to your needs.\n",
    "plt.rcParams[\"figure.figsize\"] = (20, 10)"
   ]
  },
  {
   "cell_type": "code",
   "execution_count": 41,
   "metadata": {},
   "outputs": [
    {
     "data": {
      "text/html": [
       "<div>\n",
       "<style scoped>\n",
       "    .dataframe tbody tr th:only-of-type {\n",
       "        vertical-align: middle;\n",
       "    }\n",
       "\n",
       "    .dataframe tbody tr th {\n",
       "        vertical-align: top;\n",
       "    }\n",
       "\n",
       "    .dataframe thead th {\n",
       "        text-align: right;\n",
       "    }\n",
       "</style>\n",
       "<table border=\"1\" class=\"dataframe\">\n",
       "  <thead>\n",
       "    <tr style=\"text-align: right;\">\n",
       "      <th></th>\n",
       "      <th>internalTxID</th>\n",
       "      <th>transactionHash</th>\n",
       "      <th>blockNumber</th>\n",
       "      <th>durationSendToReceipt</th>\n",
       "      <th>durationSendToConfirmation</th>\n",
       "      <th>timeSend</th>\n",
       "      <th>timeReceipt</th>\n",
       "      <th>timeConfirmed</th>\n",
       "      <th>before</th>\n",
       "      <th>timeSinceLastSend</th>\n",
       "    </tr>\n",
       "  </thead>\n",
       "  <tbody>\n",
       "    <tr>\n",
       "      <th>0</th>\n",
       "      <td>1</td>\n",
       "      <td>0x95d6a0c55e7cbb8738f915d16e91f776311afa3cac1e...</td>\n",
       "      <td>4223.0</td>\n",
       "      <td>830.0</td>\n",
       "      <td>829.0</td>\n",
       "      <td>1585521047313</td>\n",
       "      <td>1.585521e+12</td>\n",
       "      <td>1.585521e+12</td>\n",
       "      <td>NaN</td>\n",
       "      <td>NaN</td>\n",
       "    </tr>\n",
       "    <tr>\n",
       "      <th>1</th>\n",
       "      <td>2</td>\n",
       "      <td>0xfba55a93e369c5e2e37a875ddf6e61a636941c6eb256...</td>\n",
       "      <td>4224.0</td>\n",
       "      <td>1186.0</td>\n",
       "      <td>1185.0</td>\n",
       "      <td>1585521047333</td>\n",
       "      <td>1.585521e+12</td>\n",
       "      <td>1.585521e+12</td>\n",
       "      <td>1.585521e+12</td>\n",
       "      <td>20.0</td>\n",
       "    </tr>\n",
       "    <tr>\n",
       "      <th>2</th>\n",
       "      <td>3</td>\n",
       "      <td>0xb559ecaa4221a304da1861ad2f9c43030a0c91f935f4...</td>\n",
       "      <td>4224.0</td>\n",
       "      <td>1200.0</td>\n",
       "      <td>1195.0</td>\n",
       "      <td>1585521047339</td>\n",
       "      <td>1.585521e+12</td>\n",
       "      <td>1.585521e+12</td>\n",
       "      <td>1.585521e+12</td>\n",
       "      <td>6.0</td>\n",
       "    </tr>\n",
       "    <tr>\n",
       "      <th>3</th>\n",
       "      <td>4</td>\n",
       "      <td>0x7dfa7793652a544f03db20544da53ce7be0e8e599375...</td>\n",
       "      <td>4224.0</td>\n",
       "      <td>1163.0</td>\n",
       "      <td>1160.0</td>\n",
       "      <td>1585521047352</td>\n",
       "      <td>1.585521e+12</td>\n",
       "      <td>1.585521e+12</td>\n",
       "      <td>1.585521e+12</td>\n",
       "      <td>13.0</td>\n",
       "    </tr>\n",
       "    <tr>\n",
       "      <th>4</th>\n",
       "      <td>6</td>\n",
       "      <td>0xf72a2ee22e965b8216c92fd44198a42a16320fc4e5f4...</td>\n",
       "      <td>4224.0</td>\n",
       "      <td>1148.0</td>\n",
       "      <td>1147.0</td>\n",
       "      <td>1585521047383</td>\n",
       "      <td>1.585521e+12</td>\n",
       "      <td>1.585521e+12</td>\n",
       "      <td>1.585521e+12</td>\n",
       "      <td>31.0</td>\n",
       "    </tr>\n",
       "  </tbody>\n",
       "</table>\n",
       "</div>"
      ],
      "text/plain": [
       "   internalTxID                                    transactionHash  \\\n",
       "0             1  0x95d6a0c55e7cbb8738f915d16e91f776311afa3cac1e...   \n",
       "1             2  0xfba55a93e369c5e2e37a875ddf6e61a636941c6eb256...   \n",
       "2             3  0xb559ecaa4221a304da1861ad2f9c43030a0c91f935f4...   \n",
       "3             4  0x7dfa7793652a544f03db20544da53ce7be0e8e599375...   \n",
       "4             6  0xf72a2ee22e965b8216c92fd44198a42a16320fc4e5f4...   \n",
       "\n",
       "   blockNumber  durationSendToReceipt  durationSendToConfirmation  \\\n",
       "0       4223.0                  830.0                       829.0   \n",
       "1       4224.0                 1186.0                      1185.0   \n",
       "2       4224.0                 1200.0                      1195.0   \n",
       "3       4224.0                 1163.0                      1160.0   \n",
       "4       4224.0                 1148.0                      1147.0   \n",
       "\n",
       "        timeSend   timeReceipt  timeConfirmed        before  timeSinceLastSend  \n",
       "0  1585521047313  1.585521e+12   1.585521e+12           NaN                NaN  \n",
       "1  1585521047333  1.585521e+12   1.585521e+12  1.585521e+12               20.0  \n",
       "2  1585521047339  1.585521e+12   1.585521e+12  1.585521e+12                6.0  \n",
       "3  1585521047352  1.585521e+12   1.585521e+12  1.585521e+12               13.0  \n",
       "4  1585521047383  1.585521e+12   1.585521e+12  1.585521e+12               31.0  "
      ]
     },
     "execution_count": 41,
     "metadata": {},
     "output_type": "execute_result"
    }
   ],
   "source": [
    "filepath = 'data/hbbft/' + testrun + '/' + testname +  '/' + testStat + '.csv'\n",
    "# print(filepath);\n",
    "#df = pd.read_csv(filepath, header=None)\n",
    "df = pd.read_csv(filepath)\n",
    "\n",
    "# print(df.timeSend)\n",
    "df['before'] = df['timeSend'].shift(1)\n",
    "df['timeSinceLastSend'] = df.timeSend - df.shift(1).timeSend\n",
    "# df.head()\n",
    "df.head()\n",
    "\n",
    "\n"
   ]
  },
  {
   "cell_type": "code",
   "execution_count": 45,
   "metadata": {},
   "outputs": [
    {
     "ename": "AttributeError",
     "evalue": "'list' object has no attribute 'set_xlabel'",
     "output_type": "error",
     "traceback": [
      "\u001b[0;31m---------------------------------------------------------------------------\u001b[0m",
      "\u001b[0;31mAttributeError\u001b[0m                            Traceback (most recent call last)",
      "\u001b[0;32m<ipython-input-45-776da59ca26c>\u001b[0m in \u001b[0;36m<module>\u001b[0;34m\u001b[0m\n\u001b[1;32m      1\u001b[0m \u001b[0mplot\u001b[0m \u001b[0;34m=\u001b[0m \u001b[0mplt\u001b[0m\u001b[0;34m.\u001b[0m\u001b[0mplot\u001b[0m\u001b[0;34m(\u001b[0m\u001b[0mdf\u001b[0m\u001b[0;34m.\u001b[0m\u001b[0mtimeSinceLastSend\u001b[0m\u001b[0;34m)\u001b[0m\u001b[0;34m\u001b[0m\u001b[0;34m\u001b[0m\u001b[0m\n\u001b[0;32m----> 2\u001b[0;31m \u001b[0mplot\u001b[0m\u001b[0;34m.\u001b[0m\u001b[0mset_xlabel\u001b[0m\u001b[0;34m(\u001b[0m\u001b[0;34m'Should be a more or less flat line (in the case of at test without random timings)'\u001b[0m\u001b[0;34m)\u001b[0m\u001b[0;34m\u001b[0m\u001b[0;34m\u001b[0m\u001b[0m\n\u001b[0m",
      "\u001b[0;31mAttributeError\u001b[0m: 'list' object has no attribute 'set_xlabel'"
     ]
    },
    {
     "data": {
      "image/png": "[encoded data removed]",
      "text/plain": [
       "<Figure size 1440x720 with 1 Axes>"
      ]
     },
     "metadata": {
      "needs_background": "light"
     },
     "output_type": "display_data"
    }
   ],
   "source": [
    "plot = plt.plot(df.timeSinceLastSend)\n",
    "plot.set_xlabel('Should be a more or less flat line (in the case of at test without random timings)')"
   ]
  },
  {
   "cell_type": "code",
   "execution_count": 28,
   "metadata": {},
   "outputs": [
    {
     "ename": "AttributeError",
     "evalue": "'DataFrame' object has no attribute 'Nodes'",
     "output_type": "error",
     "traceback": [
      "\u001b[0;31m---------------------------------------------------------------------------\u001b[0m",
      "\u001b[0;31mAttributeError\u001b[0m                            Traceback (most recent call last)",
      "\u001b[0;32m<ipython-input-28-88f7d70c2a8b>\u001b[0m in \u001b[0;36m<module>\u001b[0;34m\u001b[0m\n\u001b[0;32m----> 1\u001b[0;31m \u001b[0mplt\u001b[0m\u001b[0;34m.\u001b[0m\u001b[0mplot\u001b[0m\u001b[0;34m(\u001b[0m\u001b[0mdf\u001b[0m\u001b[0;34m.\u001b[0m\u001b[0mNodes\u001b[0m\u001b[0;34m,\u001b[0m \u001b[0mdf\u001b[0m\u001b[0;34m.\u001b[0m\u001b[0mTotalMem\u001b[0m \u001b[0;34m/\u001b[0m \u001b[0;36m1000000.0\u001b[0m\u001b[0;34m,\u001b[0m \u001b[0mlabel\u001b[0m\u001b[0;34m=\u001b[0m\u001b[0;34m'On-chain Memory Use'\u001b[0m\u001b[0;34m)\u001b[0m\u001b[0;34m\u001b[0m\u001b[0;34m\u001b[0m\u001b[0m\n\u001b[0m\u001b[1;32m      2\u001b[0m \u001b[0mplt\u001b[0m\u001b[0;34m.\u001b[0m\u001b[0mxlabel\u001b[0m\u001b[0;34m(\u001b[0m\u001b[0;34m'Number of Validators'\u001b[0m\u001b[0;34m)\u001b[0m\u001b[0;34m\u001b[0m\u001b[0;34m\u001b[0m\u001b[0m\n\u001b[1;32m      3\u001b[0m \u001b[0mplt\u001b[0m\u001b[0;34m.\u001b[0m\u001b[0mylabel\u001b[0m\u001b[0;34m(\u001b[0m\u001b[0;34m'Memory in MB'\u001b[0m\u001b[0;34m)\u001b[0m\u001b[0;34m\u001b[0m\u001b[0;34m\u001b[0m\u001b[0m\n\u001b[1;32m      4\u001b[0m \u001b[0mmajor_ticks\u001b[0m \u001b[0;34m=\u001b[0m \u001b[0mnp\u001b[0m\u001b[0;34m.\u001b[0m\u001b[0marange\u001b[0m\u001b[0;34m(\u001b[0m\u001b[0;36m0\u001b[0m\u001b[0;34m,\u001b[0m \u001b[0;36m23\u001b[0m\u001b[0;34m,\u001b[0m \u001b[0;36m1\u001b[0m\u001b[0;34m)\u001b[0m\u001b[0;34m\u001b[0m\u001b[0;34m\u001b[0m\u001b[0m\n\u001b[1;32m      5\u001b[0m \u001b[0mplt\u001b[0m\u001b[0;34m.\u001b[0m\u001b[0myticks\u001b[0m\u001b[0;34m(\u001b[0m\u001b[0mmajor_ticks\u001b[0m\u001b[0;34m)\u001b[0m\u001b[0;34m\u001b[0m\u001b[0;34m\u001b[0m\u001b[0m\n",
      "\u001b[0;32m~/.local/lib/python3.6/site-packages/pandas/core/generic.py\u001b[0m in \u001b[0;36m__getattr__\u001b[0;34m(self, name)\u001b[0m\n\u001b[1;32m   5272\u001b[0m             \u001b[0;32mif\u001b[0m \u001b[0mself\u001b[0m\u001b[0;34m.\u001b[0m\u001b[0m_info_axis\u001b[0m\u001b[0;34m.\u001b[0m\u001b[0m_can_hold_identifiers_and_holds_name\u001b[0m\u001b[0;34m(\u001b[0m\u001b[0mname\u001b[0m\u001b[0;34m)\u001b[0m\u001b[0;34m:\u001b[0m\u001b[0;34m\u001b[0m\u001b[0;34m\u001b[0m\u001b[0m\n\u001b[1;32m   5273\u001b[0m                 \u001b[0;32mreturn\u001b[0m \u001b[0mself\u001b[0m\u001b[0;34m[\u001b[0m\u001b[0mname\u001b[0m\u001b[0;34m]\u001b[0m\u001b[0;34m\u001b[0m\u001b[0;34m\u001b[0m\u001b[0m\n\u001b[0;32m-> 5274\u001b[0;31m             \u001b[0;32mreturn\u001b[0m \u001b[0mobject\u001b[0m\u001b[0;34m.\u001b[0m\u001b[0m__getattribute__\u001b[0m\u001b[0;34m(\u001b[0m\u001b[0mself\u001b[0m\u001b[0;34m,\u001b[0m \u001b[0mname\u001b[0m\u001b[0;34m)\u001b[0m\u001b[0;34m\u001b[0m\u001b[0;34m\u001b[0m\u001b[0m\n\u001b[0m\u001b[1;32m   5275\u001b[0m \u001b[0;34m\u001b[0m\u001b[0m\n\u001b[1;32m   5276\u001b[0m     \u001b[0;32mdef\u001b[0m \u001b[0m__setattr__\u001b[0m\u001b[0;34m(\u001b[0m\u001b[0mself\u001b[0m\u001b[0;34m,\u001b[0m \u001b[0mname\u001b[0m\u001b[0;34m:\u001b[0m \u001b[0mstr\u001b[0m\u001b[0;34m,\u001b[0m \u001b[0mvalue\u001b[0m\u001b[0;34m)\u001b[0m \u001b[0;34m->\u001b[0m \u001b[0;32mNone\u001b[0m\u001b[0;34m:\u001b[0m\u001b[0;34m\u001b[0m\u001b[0;34m\u001b[0m\u001b[0m\n",
      "\u001b[0;31mAttributeError\u001b[0m: 'DataFrame' object has no attribute 'Nodes'"
     ]
    }
   ],
   "source": [
    "plt.plot(df.Nodes, df.TotalMem / 1000000.0, label='On-chain Memory Use')\n",
    "plt.xlabel('Number of Validators')\n",
    "plt.ylabel('Memory in MB')\n",
    "major_ticks = np.arange(0, 23, 1)\n",
    "plt.yticks(major_ticks)\n",
    "plt.ticklabel_format(style='plain')\n",
    "plt.legend()\n",
    "# To save the plot do a file on disk:\n",
    "# plt.savefig('threshold_encryption_memory_use.pdf')"
   ]
  },
  {
   "cell_type": "code",
   "execution_count": null,
   "metadata": {},
   "outputs": [],
   "source": []
  },
  {
   "cell_type": "code",
   "execution_count": null,
   "metadata": {},
   "outputs": [],
   "source": []
  },
  {
   "cell_type": "code",
   "execution_count": null,
   "metadata": {},
   "outputs": [],
   "source": []
  },
  {
   "cell_type": "code",
   "execution_count": null,
   "metadata": {},
   "outputs": [],
   "source": []
  },
  {
   "cell_type": "code",
   "execution_count": null,
   "metadata": {},
   "outputs": [],
   "source": []
  }
 ],
 "metadata": {
  "kernelspec": {
   "display_name": "Python 3",
   "language": "python",
   "name": "python3"
  },
  "language_info": {
   "codemirror_mode": {
    "name": "ipython",
    "version": 3
   },
   "file_extension": ".py",
   "mimetype": "text/x-python",
   "name": "python",
   "nbconvert_exporter": "python",
   "pygments_lexer": "ipython3",
   "version": "3.6.9"
  }
 },
 "nbformat": 4,
 "nbformat_minor": 4
}
