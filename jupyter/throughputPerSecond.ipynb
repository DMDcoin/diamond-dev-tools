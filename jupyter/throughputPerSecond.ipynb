{
 "cells": [
  {
   "cell_type": "code",
   "execution_count": 2,
   "metadata": {},
   "outputs": [],
   "source": [
    "testrun = 'run1'\n",
    "testname = 'throughput1' #'latency1'\n",
    "testStat = 'throughput_single.transactions' #'latency_5m_single_transactions.transactions'\n",
    "\n",
    "import numpy as np\n",
    "import pandas as pd\n",
    "import matplotlib.pyplot as plt"
   ]
  },
  {
   "cell_type": "code",
   "execution_count": 3,
   "metadata": {},
   "outputs": [],
   "source": []
  },
  {
   "cell_type": "code",
   "execution_count": 22,
   "metadata": {},
   "outputs": [
    {
     "data": {
      "text/html": [
       "<div>\n",
       "<style scoped>\n",
       "    .dataframe tbody tr th:only-of-type {\n",
       "        vertical-align: middle;\n",
       "    }\n",
       "\n",
       "    .dataframe tbody tr th {\n",
       "        vertical-align: top;\n",
       "    }\n",
       "\n",
       "    .dataframe thead th {\n",
       "        text-align: right;\n",
       "    }\n",
       "</style>\n",
       "<table border=\"1\" class=\"dataframe\">\n",
       "  <thead>\n",
       "    <tr style=\"text-align: right;\">\n",
       "      <th></th>\n",
       "      <th>internalTxID</th>\n",
       "      <th>transactionHash</th>\n",
       "      <th>blockNumber</th>\n",
       "      <th>durationSendToReceipt</th>\n",
       "      <th>durationSendToConfirmation</th>\n",
       "      <th>timeSend</th>\n",
       "      <th>timeReceipt</th>\n",
       "      <th>timeConfirmed</th>\n",
       "      <th>timeSinceLastSend</th>\n",
       "    </tr>\n",
       "  </thead>\n",
       "  <tbody>\n",
       "    <tr>\n",
       "      <th>0</th>\n",
       "      <td>2</td>\n",
       "      <td>0x0f4888c1b5345781bd2ab0631c7ca2ce66d0e4c9702e...</td>\n",
       "      <td>5676.0</td>\n",
       "      <td>828.0</td>\n",
       "      <td>828.0</td>\n",
       "      <td>1585769817694</td>\n",
       "      <td>1.585770e+12</td>\n",
       "      <td>1.585770e+12</td>\n",
       "      <td>NaN</td>\n",
       "    </tr>\n",
       "    <tr>\n",
       "      <th>1</th>\n",
       "      <td>4</td>\n",
       "      <td>0x5d99861e23231ca08a618563f234675ca384ca004bfa...</td>\n",
       "      <td>5676.0</td>\n",
       "      <td>775.0</td>\n",
       "      <td>775.0</td>\n",
       "      <td>1585769817720</td>\n",
       "      <td>1.585770e+12</td>\n",
       "      <td>1.585770e+12</td>\n",
       "      <td>26.0</td>\n",
       "    </tr>\n",
       "    <tr>\n",
       "      <th>2</th>\n",
       "      <td>6</td>\n",
       "      <td>0x103a5225a3e8c10180a6aab5944654f09d2015782e10...</td>\n",
       "      <td>5676.0</td>\n",
       "      <td>746.0</td>\n",
       "      <td>746.0</td>\n",
       "      <td>1585769817748</td>\n",
       "      <td>1.585770e+12</td>\n",
       "      <td>1.585770e+12</td>\n",
       "      <td>28.0</td>\n",
       "    </tr>\n",
       "    <tr>\n",
       "      <th>3</th>\n",
       "      <td>6</td>\n",
       "      <td>0xaf5ed5fe0971bf08b6b7968e097c080e9a4fe2f2c7d2...</td>\n",
       "      <td>5677.0</td>\n",
       "      <td>1130.0</td>\n",
       "      <td>1127.0</td>\n",
       "      <td>1585769817750</td>\n",
       "      <td>1.585770e+12</td>\n",
       "      <td>1.585770e+12</td>\n",
       "      <td>2.0</td>\n",
       "    </tr>\n",
       "    <tr>\n",
       "      <th>4</th>\n",
       "      <td>7</td>\n",
       "      <td>0x53b0675e8498cd29425e2f9d35e1ae771eec24c7210e...</td>\n",
       "      <td>5677.0</td>\n",
       "      <td>1102.0</td>\n",
       "      <td>1102.0</td>\n",
       "      <td>1585769817769</td>\n",
       "      <td>1.585770e+12</td>\n",
       "      <td>1.585770e+12</td>\n",
       "      <td>19.0</td>\n",
       "    </tr>\n",
       "  </tbody>\n",
       "</table>\n",
       "</div>"
      ],
      "text/plain": [
       "   internalTxID                                    transactionHash  \\\n",
       "0             2  0x0f4888c1b5345781bd2ab0631c7ca2ce66d0e4c9702e...   \n",
       "1             4  0x5d99861e23231ca08a618563f234675ca384ca004bfa...   \n",
       "2             6  0x103a5225a3e8c10180a6aab5944654f09d2015782e10...   \n",
       "3             6  0xaf5ed5fe0971bf08b6b7968e097c080e9a4fe2f2c7d2...   \n",
       "4             7  0x53b0675e8498cd29425e2f9d35e1ae771eec24c7210e...   \n",
       "\n",
       "   blockNumber  durationSendToReceipt  durationSendToConfirmation  \\\n",
       "0       5676.0                  828.0                       828.0   \n",
       "1       5676.0                  775.0                       775.0   \n",
       "2       5676.0                  746.0                       746.0   \n",
       "3       5677.0                 1130.0                      1127.0   \n",
       "4       5677.0                 1102.0                      1102.0   \n",
       "\n",
       "        timeSend   timeReceipt  timeConfirmed  timeSinceLastSend  \n",
       "0  1585769817694  1.585770e+12   1.585770e+12                NaN  \n",
       "1  1585769817720  1.585770e+12   1.585770e+12               26.0  \n",
       "2  1585769817748  1.585770e+12   1.585770e+12               28.0  \n",
       "3  1585769817750  1.585770e+12   1.585770e+12                2.0  \n",
       "4  1585769817769  1.585770e+12   1.585770e+12               19.0  "
      ]
     },
     "execution_count": 22,
     "metadata": {},
     "output_type": "execute_result"
    }
   ],
   "source": [
    "# We use larger plot areas, adjust to your needs.\n",
    "plt.rcParams[\"figure.figsize\"] = (20, 10)\n",
    "\n",
    "filepath = 'data/hbbft/' + testrun + '/' + testname +  '/' + testStat + '.csv'\n",
    "\n",
    "df2 = pd.read_csv('data/hbbft/compareThroughput/throughput_single.transactions.csv')\n",
    "df2['timeSinceLastSend'] = df2.timeSend - df2.shift(1).timeSend\n",
    "# print(filepath);\n",
    "#df = pd.read_csv(filepath, header=None)\n",
    "df = pd.read_csv(filepath)\n",
    "\n",
    "# print(df.timeSend)\n",
    "df['before'] = df['timeSend'].shift(1)\n",
    "df['timeSinceLastSend'] = df.timeSend - df.shift(1).timeSend\n",
    "\n",
    "# df.head()\n",
    "df2.head()\n",
    "\n",
    "\n"
   ]
  },
  {
   "cell_type": "code",
   "execution_count": 25,
   "metadata": {},
   "outputs": [
    {
     "data": {
      "image/png": "[encoded data removed]",
      "text/plain": [
       "<Figure size 1440x720 with 1 Axes>"
      ]
     },
     "metadata": {
      "needs_background": "light"
     },
     "output_type": "display_data"
    }
   ],
   "source": [
    "# plot = plt.plot(df.timeSinceLastSend)\n",
    "# plot2 = plt.plot(df2.timeSinceLastSend)\n"
   ]
  },
  {
   "cell_type": "code",
   "execution_count": null,
   "metadata": {},
   "outputs": [],
   "source": []
  },
  {
   "cell_type": "code",
   "execution_count": null,
   "metadata": {},
   "outputs": [],
   "source": []
  },
  {
   "cell_type": "code",
   "execution_count": null,
   "metadata": {},
   "outputs": [],
   "source": []
  },
  {
   "cell_type": "code",
   "execution_count": null,
   "metadata": {},
   "outputs": [],
   "source": []
  },
  {
   "cell_type": "code",
   "execution_count": null,
   "metadata": {},
   "outputs": [],
   "source": []
  }
 ],
 "metadata": {
  "kernelspec": {
   "display_name": "Python 3",
   "language": "python",
   "name": "python3"
  },
  "language_info": {
   "codemirror_mode": {
    "name": "ipython",
    "version": 3
   },
   "file_extension": ".py",
   "mimetype": "text/x-python",
   "name": "python",
   "nbconvert_exporter": "python",
   "pygments_lexer": "ipython3",
   "version": "3.6.9"
  }
 },
 "nbformat": 4,
 "nbformat_minor": 4
}
