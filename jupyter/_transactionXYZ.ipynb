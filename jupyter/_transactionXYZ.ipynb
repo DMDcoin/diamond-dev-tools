{
 "cells": [
  {
   "cell_type": "code",
   "execution_count": 15,
   "metadata": {},
   "outputs": [],
   "source": [
    "testrun = 'run3'\n",
    "testname = 'throughput1' #'latency1'\n",
    "testStat = 'throughput_single.transactions' #'latency_5m_single_transactions.transactions'\n",
    "\n",
    "import numpy as np\n",
    "import pandas as pd\n",
    "import matplotlib.pyplot as plt"
   ]
  },
  {
   "cell_type": "code",
   "execution_count": 16,
   "metadata": {},
   "outputs": [],
   "source": [
    "# We use larger plot areas, adjust to your needs.\n",
    "plt.rcParams[\"figure.figsize\"] = (20, 10)"
   ]
  },
  {
   "cell_type": "code",
   "execution_count": 17,
   "metadata": {},
   "outputs": [
    {
     "data": {
      "text/html": [
       "<div>\n",
       "<style scoped>\n",
       "    .dataframe tbody tr th:only-of-type {\n",
       "        vertical-align: middle;\n",
       "    }\n",
       "\n",
       "    .dataframe tbody tr th {\n",
       "        vertical-align: top;\n",
       "    }\n",
       "\n",
       "    .dataframe thead th {\n",
       "        text-align: right;\n",
       "    }\n",
       "</style>\n",
       "<table border=\"1\" class=\"dataframe\">\n",
       "  <thead>\n",
       "    <tr style=\"text-align: right;\">\n",
       "      <th></th>\n",
       "      <th>internalTxID</th>\n",
       "      <th>transactionHash</th>\n",
       "      <th>blockNumber</th>\n",
       "      <th>timeSend</th>\n",
       "      <th>timeReceipt</th>\n",
       "      <th>timeConfirmed</th>\n",
       "    </tr>\n",
       "  </thead>\n",
       "  <tbody>\n",
       "    <tr>\n",
       "      <th>0</th>\n",
       "      <td>3</td>\n",
       "      <td>0x1b432e98e7b324e3cf4b9ba88ca7266a2fb6ecc3b102...</td>\n",
       "      <td>9634.0</td>\n",
       "      <td>1585910335612</td>\n",
       "      <td>1.585910e+12</td>\n",
       "      <td>NaN</td>\n",
       "    </tr>\n",
       "    <tr>\n",
       "      <th>1</th>\n",
       "      <td>6</td>\n",
       "      <td>0x1878c28dd78ac1146a20804047500bb71cd060ae2dbe...</td>\n",
       "      <td>9634.0</td>\n",
       "      <td>1585910335646</td>\n",
       "      <td>1.585910e+12</td>\n",
       "      <td>NaN</td>\n",
       "    </tr>\n",
       "    <tr>\n",
       "      <th>2</th>\n",
       "      <td>6</td>\n",
       "      <td>0x0899d1a4277861047767b8c7c70ab72c53da2755efec...</td>\n",
       "      <td>9635.0</td>\n",
       "      <td>1585910335648</td>\n",
       "      <td>1.585910e+12</td>\n",
       "      <td>NaN</td>\n",
       "    </tr>\n",
       "    <tr>\n",
       "      <th>3</th>\n",
       "      <td>8</td>\n",
       "      <td>0x23652641c3b4a984024b3a124fbcbdf5298e0e721626...</td>\n",
       "      <td>9635.0</td>\n",
       "      <td>1585910335684</td>\n",
       "      <td>1.585910e+12</td>\n",
       "      <td>NaN</td>\n",
       "    </tr>\n",
       "    <tr>\n",
       "      <th>4</th>\n",
       "      <td>9</td>\n",
       "      <td>0x3acb1c1958aa501bda82ceef6ec28e4882a1fe9be9f5...</td>\n",
       "      <td>9635.0</td>\n",
       "      <td>1585910335687</td>\n",
       "      <td>1.585910e+12</td>\n",
       "      <td>NaN</td>\n",
       "    </tr>\n",
       "  </tbody>\n",
       "</table>\n",
       "</div>"
      ],
      "text/plain": [
       "   internalTxID                                    transactionHash  \\\n",
       "0             3  0x1b432e98e7b324e3cf4b9ba88ca7266a2fb6ecc3b102...   \n",
       "1             6  0x1878c28dd78ac1146a20804047500bb71cd060ae2dbe...   \n",
       "2             6  0x0899d1a4277861047767b8c7c70ab72c53da2755efec...   \n",
       "3             8  0x23652641c3b4a984024b3a124fbcbdf5298e0e721626...   \n",
       "4             9  0x3acb1c1958aa501bda82ceef6ec28e4882a1fe9be9f5...   \n",
       "\n",
       "   blockNumber       timeSend   timeReceipt  timeConfirmed  \n",
       "0       9634.0  1585910335612  1.585910e+12            NaN  \n",
       "1       9634.0  1585910335646  1.585910e+12            NaN  \n",
       "2       9635.0  1585910335648  1.585910e+12            NaN  \n",
       "3       9635.0  1585910335684  1.585910e+12            NaN  \n",
       "4       9635.0  1585910335687  1.585910e+12            NaN  "
      ]
     },
     "execution_count": 17,
     "metadata": {},
     "output_type": "execute_result"
    }
   ],
   "source": [
    "filepath = 'data/hbbft/' + testrun + '/' + testname +  '/' + testStat + '.csv'\n",
    "\n",
    "\n",
    "\n",
    "def addCalcedColumnsTransaction(df):\n",
    "    df['durationSendToConfirmation'] = df['timeReceipt'] - df['timeSend']\n",
    "\n",
    "\n",
    "# print(filepath);\n",
    "# df = pd.read_csv(filepath, header=None)\n",
    "df = pd.read_csv(filepath)\n",
    "\n",
    "\n",
    "#dfLocal['durationSendToConfirmation'] =  dfLocal['timeReceipt'] - dfLocal['timeSend']\n",
    "\n",
    "df.head()\n",
    "\n",
    "# print(df.timeSend)\n",
    "# df['before'] = df['timeSend'].shift(1)\n",
    "# df['timeSinceLastSend'] = df.timeSend - df.shift(1).timeSend\n",
    "# df.head()\n",
    "# df.head()\n",
    "\n",
    "\n"
   ]
  },
  {
   "cell_type": "code",
   "execution_count": 18,
   "metadata": {},
   "outputs": [
    {
     "ename": "AttributeError",
     "evalue": "'DataFrame' object has no attribute 'durationSendToConfirmation'",
     "output_type": "error",
     "traceback": [
      "\u001b[0;31m---------------------------------------------------------------------------\u001b[0m",
      "\u001b[0;31mAttributeError\u001b[0m                            Traceback (most recent call last)",
      "\u001b[0;32m<ipython-input-18-17e2107e1877>\u001b[0m in \u001b[0;36m<module>\u001b[0;34m\u001b[0m\n\u001b[0;32m----> 1\u001b[0;31m \u001b[0mplot\u001b[0m \u001b[0;34m=\u001b[0m \u001b[0mplt\u001b[0m\u001b[0;34m.\u001b[0m\u001b[0mplot\u001b[0m\u001b[0;34m(\u001b[0m\u001b[0mdf\u001b[0m\u001b[0;34m.\u001b[0m\u001b[0mdurationSendToConfirmation\u001b[0m\u001b[0;34m)\u001b[0m\u001b[0;34m\u001b[0m\u001b[0;34m\u001b[0m\u001b[0m\n\u001b[0m",
      "\u001b[0;32m~/.local/lib/python3.6/site-packages/pandas/core/generic.py\u001b[0m in \u001b[0;36m__getattr__\u001b[0;34m(self, name)\u001b[0m\n\u001b[1;32m   5272\u001b[0m             \u001b[0;32mif\u001b[0m \u001b[0mself\u001b[0m\u001b[0;34m.\u001b[0m\u001b[0m_info_axis\u001b[0m\u001b[0;34m.\u001b[0m\u001b[0m_can_hold_identifiers_and_holds_name\u001b[0m\u001b[0;34m(\u001b[0m\u001b[0mname\u001b[0m\u001b[0;34m)\u001b[0m\u001b[0;34m:\u001b[0m\u001b[0;34m\u001b[0m\u001b[0;34m\u001b[0m\u001b[0m\n\u001b[1;32m   5273\u001b[0m                 \u001b[0;32mreturn\u001b[0m \u001b[0mself\u001b[0m\u001b[0;34m[\u001b[0m\u001b[0mname\u001b[0m\u001b[0;34m]\u001b[0m\u001b[0;34m\u001b[0m\u001b[0;34m\u001b[0m\u001b[0m\n\u001b[0;32m-> 5274\u001b[0;31m             \u001b[0;32mreturn\u001b[0m \u001b[0mobject\u001b[0m\u001b[0;34m.\u001b[0m\u001b[0m__getattribute__\u001b[0m\u001b[0;34m(\u001b[0m\u001b[0mself\u001b[0m\u001b[0;34m,\u001b[0m \u001b[0mname\u001b[0m\u001b[0;34m)\u001b[0m\u001b[0;34m\u001b[0m\u001b[0;34m\u001b[0m\u001b[0m\n\u001b[0m\u001b[1;32m   5275\u001b[0m \u001b[0;34m\u001b[0m\u001b[0m\n\u001b[1;32m   5276\u001b[0m     \u001b[0;32mdef\u001b[0m \u001b[0m__setattr__\u001b[0m\u001b[0;34m(\u001b[0m\u001b[0mself\u001b[0m\u001b[0;34m,\u001b[0m \u001b[0mname\u001b[0m\u001b[0;34m:\u001b[0m \u001b[0mstr\u001b[0m\u001b[0;34m,\u001b[0m \u001b[0mvalue\u001b[0m\u001b[0;34m)\u001b[0m \u001b[0;34m->\u001b[0m \u001b[0;32mNone\u001b[0m\u001b[0;34m:\u001b[0m\u001b[0;34m\u001b[0m\u001b[0;34m\u001b[0m\u001b[0m\n",
      "\u001b[0;31mAttributeError\u001b[0m: 'DataFrame' object has no attribute 'durationSendToConfirmation'"
     ]
    }
   ],
   "source": [
    "plot = plt.plot(df.durationSendToConfirmation)\n"
   ]
  },
  {
   "cell_type": "code",
   "execution_count": null,
   "metadata": {},
   "outputs": [],
   "source": []
  },
  {
   "cell_type": "code",
   "execution_count": null,
   "metadata": {},
   "outputs": [],
   "source": []
  },
  {
   "cell_type": "code",
   "execution_count": null,
   "metadata": {},
   "outputs": [],
   "source": []
  },
  {
   "cell_type": "code",
   "execution_count": null,
   "metadata": {},
   "outputs": [],
   "source": []
  },
  {
   "cell_type": "code",
   "execution_count": null,
   "metadata": {},
   "outputs": [],
   "source": []
  },
  {
   "cell_type": "code",
   "execution_count": null,
   "metadata": {},
   "outputs": [],
   "source": []
  }
 ],
 "metadata": {
  "kernelspec": {
   "display_name": "Python 3",
   "language": "python",
   "name": "python3"
  },
  "language_info": {
   "codemirror_mode": {
    "name": "ipython",
    "version": 3
   },
   "file_extension": ".py",
   "mimetype": "text/x-python",
   "name": "python",
   "nbconvert_exporter": "python",
   "pygments_lexer": "ipython3",
   "version": "3.6.9"
  }
 },
 "nbformat": 4,
 "nbformat_minor": 4
}
