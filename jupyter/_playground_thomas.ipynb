{
 "cells": [
  {
   "cell_type": "code",
   "execution_count": 1,
   "metadata": {},
   "outputs": [],
   "source": [
    "testrun = 'run1'\n",
    "testname = 'latency2' #'latency1'\n",
    "testStat = 'latency_5m_single_transactions.transactions' #'latency_5m_single_transactions.transactions'\n",
    "\n",
    "import numpy as np\n",
    "import pandas as pd\n",
    "import matplotlib.pyplot as plt"
   ]
  },
  {
   "cell_type": "code",
   "execution_count": 2,
   "metadata": {},
   "outputs": [],
   "source": [
    "# We use larger plot areas, adjust to your needs.\n",
    "plt.rcParams[\"figure.figsize\"] = (20, 10)"
   ]
  },
  {
   "cell_type": "code",
   "execution_count": 3,
   "metadata": {},
   "outputs": [
    {
     "data": {
      "text/html": [
       "<div>\n",
       "<style scoped>\n",
       "    .dataframe tbody tr th:only-of-type {\n",
       "        vertical-align: middle;\n",
       "    }\n",
       "\n",
       "    .dataframe tbody tr th {\n",
       "        vertical-align: top;\n",
       "    }\n",
       "\n",
       "    .dataframe thead th {\n",
       "        text-align: right;\n",
       "    }\n",
       "</style>\n",
       "<table border=\"1\" class=\"dataframe\">\n",
       "  <thead>\n",
       "    <tr style=\"text-align: right;\">\n",
       "      <th></th>\n",
       "      <th>1</th>\n",
       "      <th>0x630e2611c8c75937364a6dffa78730059ab3059a1acef0e19e95342cda65fedf</th>\n",
       "      <th>3926</th>\n",
       "      <th>1367</th>\n",
       "      <th>1363</th>\n",
       "      <th>1585520238457</th>\n",
       "      <th>1585520239824</th>\n",
       "      <th>1585520239820</th>\n",
       "    </tr>\n",
       "  </thead>\n",
       "  <tbody>\n",
       "    <tr>\n",
       "      <th>0</th>\n",
       "      <td>2</td>\n",
       "      <td>0xe350f3b401c193f0d04050ff9025a65151dd32ef8802...</td>\n",
       "      <td>3928</td>\n",
       "      <td>1747</td>\n",
       "      <td>1746</td>\n",
       "      <td>1585520240251</td>\n",
       "      <td>1585520241998</td>\n",
       "      <td>1585520241997</td>\n",
       "    </tr>\n",
       "    <tr>\n",
       "      <th>1</th>\n",
       "      <td>3</td>\n",
       "      <td>0x673e901382a8ff9bf4b953f9e1474d8bfd98b56701f6...</td>\n",
       "      <td>3936</td>\n",
       "      <td>2072</td>\n",
       "      <td>2072</td>\n",
       "      <td>1585520247880</td>\n",
       "      <td>1585520249952</td>\n",
       "      <td>1585520249952</td>\n",
       "    </tr>\n",
       "    <tr>\n",
       "      <th>2</th>\n",
       "      <td>4</td>\n",
       "      <td>0x25be71f757ae76f848ed53e7f9f40756abc7f17edc60...</td>\n",
       "      <td>3938</td>\n",
       "      <td>1443</td>\n",
       "      <td>1443</td>\n",
       "      <td>1585520250561</td>\n",
       "      <td>1585520252004</td>\n",
       "      <td>1585520252004</td>\n",
       "    </tr>\n",
       "    <tr>\n",
       "      <th>3</th>\n",
       "      <td>5</td>\n",
       "      <td>0x63deb0ced26df27ead5fa425e1af08b37f974be576cd...</td>\n",
       "      <td>3940</td>\n",
       "      <td>1576</td>\n",
       "      <td>1575</td>\n",
       "      <td>1585520252462</td>\n",
       "      <td>1585520254038</td>\n",
       "      <td>1585520254037</td>\n",
       "    </tr>\n",
       "    <tr>\n",
       "      <th>4</th>\n",
       "      <td>6</td>\n",
       "      <td>0xdc8368d60521f35e6ea9802250197ab253638ea006a8...</td>\n",
       "      <td>3946</td>\n",
       "      <td>2479</td>\n",
       "      <td>2478</td>\n",
       "      <td>1585520257537</td>\n",
       "      <td>1585520260016</td>\n",
       "      <td>1585520260015</td>\n",
       "    </tr>\n",
       "  </tbody>\n",
       "</table>\n",
       "</div>"
      ],
      "text/plain": [
       "   1 0x630e2611c8c75937364a6dffa78730059ab3059a1acef0e19e95342cda65fedf  3926  \\\n",
       "0  2  0xe350f3b401c193f0d04050ff9025a65151dd32ef8802...                  3928   \n",
       "1  3  0x673e901382a8ff9bf4b953f9e1474d8bfd98b56701f6...                  3936   \n",
       "2  4  0x25be71f757ae76f848ed53e7f9f40756abc7f17edc60...                  3938   \n",
       "3  5  0x63deb0ced26df27ead5fa425e1af08b37f974be576cd...                  3940   \n",
       "4  6  0xdc8368d60521f35e6ea9802250197ab253638ea006a8...                  3946   \n",
       "\n",
       "   1367  1363  1585520238457  1585520239824  1585520239820  \n",
       "0  1747  1746  1585520240251  1585520241998  1585520241997  \n",
       "1  2072  2072  1585520247880  1585520249952  1585520249952  \n",
       "2  1443  1443  1585520250561  1585520252004  1585520252004  \n",
       "3  1576  1575  1585520252462  1585520254038  1585520254037  \n",
       "4  2479  2478  1585520257537  1585520260016  1585520260015  "
      ]
     },
     "execution_count": 3,
     "metadata": {},
     "output_type": "execute_result"
    }
   ],
   "source": [
    "filepath = 'data/hbbft/' + testrun + '/' + testname +  '/' + testStat + '.csv'\n",
    "# print(filepath);\n",
    "#df = pd.read_csv(filepath, header=None)\n",
    "df = pd.read_csv(filepath)\n",
    "df.head()\n",
    "\n",
    "# print(df.timeSend)\n",
    "# df['before'] = df['timeSend'].shift(1)\n",
    "# df['timeSinceLastSend'] = df.timeSend - df.shift(1).timeSend\n",
    "# df.head()\n",
    "# df.head()\n",
    "\n",
    "\n"
   ]
  },
  {
   "cell_type": "code",
   "execution_count": 4,
   "metadata": {},
   "outputs": [
    {
     "ename": "AttributeError",
     "evalue": "'DataFrame' object has no attribute 'durationSendToConfirmation'",
     "output_type": "error",
     "traceback": [
      "\u001b[0;31m---------------------------------------------------------------------------\u001b[0m",
      "\u001b[0;31mAttributeError\u001b[0m                            Traceback (most recent call last)",
      "\u001b[0;32m<ipython-input-4-17e2107e1877>\u001b[0m in \u001b[0;36m<module>\u001b[0;34m\u001b[0m\n\u001b[0;32m----> 1\u001b[0;31m \u001b[0mplot\u001b[0m \u001b[0;34m=\u001b[0m \u001b[0mplt\u001b[0m\u001b[0;34m.\u001b[0m\u001b[0mplot\u001b[0m\u001b[0;34m(\u001b[0m\u001b[0mdf\u001b[0m\u001b[0;34m.\u001b[0m\u001b[0mdurationSendToConfirmation\u001b[0m\u001b[0;34m)\u001b[0m\u001b[0;34m\u001b[0m\u001b[0;34m\u001b[0m\u001b[0m\n\u001b[0m",
      "\u001b[0;32m~/.local/lib/python3.6/site-packages/pandas/core/generic.py\u001b[0m in \u001b[0;36m__getattr__\u001b[0;34m(self, name)\u001b[0m\n\u001b[1;32m   5272\u001b[0m             \u001b[0;32mif\u001b[0m \u001b[0mself\u001b[0m\u001b[0;34m.\u001b[0m\u001b[0m_info_axis\u001b[0m\u001b[0;34m.\u001b[0m\u001b[0m_can_hold_identifiers_and_holds_name\u001b[0m\u001b[0;34m(\u001b[0m\u001b[0mname\u001b[0m\u001b[0;34m)\u001b[0m\u001b[0;34m:\u001b[0m\u001b[0;34m\u001b[0m\u001b[0;34m\u001b[0m\u001b[0m\n\u001b[1;32m   5273\u001b[0m                 \u001b[0;32mreturn\u001b[0m \u001b[0mself\u001b[0m\u001b[0;34m[\u001b[0m\u001b[0mname\u001b[0m\u001b[0;34m]\u001b[0m\u001b[0;34m\u001b[0m\u001b[0;34m\u001b[0m\u001b[0m\n\u001b[0;32m-> 5274\u001b[0;31m             \u001b[0;32mreturn\u001b[0m \u001b[0mobject\u001b[0m\u001b[0;34m.\u001b[0m\u001b[0m__getattribute__\u001b[0m\u001b[0;34m(\u001b[0m\u001b[0mself\u001b[0m\u001b[0;34m,\u001b[0m \u001b[0mname\u001b[0m\u001b[0;34m)\u001b[0m\u001b[0;34m\u001b[0m\u001b[0;34m\u001b[0m\u001b[0m\n\u001b[0m\u001b[1;32m   5275\u001b[0m \u001b[0;34m\u001b[0m\u001b[0m\n\u001b[1;32m   5276\u001b[0m     \u001b[0;32mdef\u001b[0m \u001b[0m__setattr__\u001b[0m\u001b[0;34m(\u001b[0m\u001b[0mself\u001b[0m\u001b[0;34m,\u001b[0m \u001b[0mname\u001b[0m\u001b[0;34m:\u001b[0m \u001b[0mstr\u001b[0m\u001b[0;34m,\u001b[0m \u001b[0mvalue\u001b[0m\u001b[0;34m)\u001b[0m \u001b[0;34m->\u001b[0m \u001b[0;32mNone\u001b[0m\u001b[0;34m:\u001b[0m\u001b[0;34m\u001b[0m\u001b[0;34m\u001b[0m\u001b[0m\n",
      "\u001b[0;31mAttributeError\u001b[0m: 'DataFrame' object has no attribute 'durationSendToConfirmation'"
     ]
    }
   ],
   "source": [
    "plot = plt.plot(df.durationSendToConfirmation)\n"
   ]
  },
  {
   "cell_type": "code",
   "execution_count": null,
   "metadata": {},
   "outputs": [],
   "source": []
  },
  {
   "cell_type": "code",
   "execution_count": null,
   "metadata": {},
   "outputs": [],
   "source": []
  },
  {
   "cell_type": "code",
   "execution_count": null,
   "metadata": {},
   "outputs": [],
   "source": []
  },
  {
   "cell_type": "code",
   "execution_count": null,
   "metadata": {},
   "outputs": [],
   "source": []
  },
  {
   "cell_type": "code",
   "execution_count": null,
   "metadata": {},
   "outputs": [],
   "source": []
  },
  {
   "cell_type": "code",
   "execution_count": null,
   "metadata": {},
   "outputs": [],
   "source": []
  }
 ],
 "metadata": {
  "kernelspec": {
   "display_name": "Python 3",
   "language": "python",
   "name": "python3"
  },
  "language_info": {
   "codemirror_mode": {
    "name": "ipython",
    "version": 3
   },
   "file_extension": ".py",
   "mimetype": "text/x-python",
   "name": "python",
   "nbconvert_exporter": "python",
   "pygments_lexer": "ipython3",
   "version": "3.6.9"
  }
 },
 "nbformat": 4,
 "nbformat_minor": 4
}
