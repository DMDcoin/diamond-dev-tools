{
 "cells": [
  {
   "cell_type": "code",
   "execution_count": 1,
   "id": "a2501bb4-1173-405f-a12e-3ddd30789afb",
   "metadata": {},
   "outputs": [],
   "source": [
    "# this script can be used to analye the blocks from find-plateau scripts\n",
    "\n",
    "\n",
    "import numpy as np\n",
    "import pandas as pd\n",
    "import matplotlib.pyplot as plt"
   ]
  },
  {
   "cell_type": "code",
   "execution_count": 3,
   "id": "02781f49-c613-44f8-8887-30db07ddd935",
   "metadata": {},
   "outputs": [],
   "source": [
    "filepath = 'data/hbbft/plateau-cpu-bound/02-native-cpu.csv'\n",
    "df = pd.read_csv(filepath)"
   ]
  },
  {
   "cell_type": "code",
   "execution_count": 4,
   "id": "6a8e989d-bab8-4dc0-aaa5-094d274f5292",
   "metadata": {},
   "outputs": [],
   "source": [
    "filepath2 = 'data/hbbft/plateau-cpu-bound/03-after-try-send-fix.csv'\n",
    "df2 = pd.read_csv(filepath2)"
   ]
  },
  {
   "cell_type": "code",
   "execution_count": 6,
   "id": "b2a039a3-3fc4-4e1c-a9a5-0f48b0428b9b",
   "metadata": {},
   "outputs": [
    {
     "data": {
      "text/html": [
       "<div>\n",
       "<style scoped>\n",
       "    .dataframe tbody tr th:only-of-type {\n",
       "        vertical-align: middle;\n",
       "    }\n",
       "\n",
       "    .dataframe tbody tr th {\n",
       "        vertical-align: top;\n",
       "    }\n",
       "\n",
       "    .dataframe thead th {\n",
       "        text-align: right;\n",
       "    }\n",
       "</style>\n",
       "<table border=\"1\" class=\"dataframe\">\n",
       "  <thead>\n",
       "    <tr style=\"text-align: right;\">\n",
       "      <th></th>\n",
       "      <th>tx_per_account</th>\n",
       "      <th>num_of_accounts</th>\n",
       "      <th>num_of_validators</th>\n",
       "      <th>total_txs</th>\n",
       "      <th>number_of_blocks</th>\n",
       "      <th>sum_of_block_time</th>\n",
       "      <th>blockStart</th>\n",
       "      <th>blockEnd</th>\n",
       "      <th>block_per_second</th>\n",
       "      <th>txs_per_second</th>\n",
       "    </tr>\n",
       "  </thead>\n",
       "  <tbody>\n",
       "    <tr>\n",
       "      <th>0</th>\n",
       "      <td>1</td>\n",
       "      <td>100</td>\n",
       "      <td>25</td>\n",
       "      <td>\"100\"</td>\n",
       "      <td>2</td>\n",
       "      <td>6</td>\n",
       "      <td>22</td>\n",
       "      <td>24</td>\n",
       "      <td>0.3333</td>\n",
       "      <td>16.67</td>\n",
       "    </tr>\n",
       "    <tr>\n",
       "      <th>1</th>\n",
       "      <td>2</td>\n",
       "      <td>100</td>\n",
       "      <td>25</td>\n",
       "      <td>\"200\"</td>\n",
       "      <td>2</td>\n",
       "      <td>5</td>\n",
       "      <td>24</td>\n",
       "      <td>26</td>\n",
       "      <td>0.4000</td>\n",
       "      <td>40.00</td>\n",
       "    </tr>\n",
       "    <tr>\n",
       "      <th>2</th>\n",
       "      <td>3</td>\n",
       "      <td>100</td>\n",
       "      <td>25</td>\n",
       "      <td>\"300\"</td>\n",
       "      <td>2</td>\n",
       "      <td>5</td>\n",
       "      <td>26</td>\n",
       "      <td>28</td>\n",
       "      <td>0.4000</td>\n",
       "      <td>60.00</td>\n",
       "    </tr>\n",
       "    <tr>\n",
       "      <th>3</th>\n",
       "      <td>4</td>\n",
       "      <td>100</td>\n",
       "      <td>25</td>\n",
       "      <td>\"400\"</td>\n",
       "      <td>2</td>\n",
       "      <td>5</td>\n",
       "      <td>28</td>\n",
       "      <td>30</td>\n",
       "      <td>0.4000</td>\n",
       "      <td>80.00</td>\n",
       "    </tr>\n",
       "    <tr>\n",
       "      <th>4</th>\n",
       "      <td>5</td>\n",
       "      <td>100</td>\n",
       "      <td>25</td>\n",
       "      <td>\"500\"</td>\n",
       "      <td>2</td>\n",
       "      <td>6</td>\n",
       "      <td>30</td>\n",
       "      <td>32</td>\n",
       "      <td>0.3333</td>\n",
       "      <td>83.33</td>\n",
       "    </tr>\n",
       "  </tbody>\n",
       "</table>\n",
       "</div>"
      ],
      "text/plain": [
       "   tx_per_account  num_of_accounts  num_of_validators total_txs  \\\n",
       "0               1              100                 25     \"100\"   \n",
       "1               2              100                 25     \"200\"   \n",
       "2               3              100                 25     \"300\"   \n",
       "3               4              100                 25     \"400\"   \n",
       "4               5              100                 25     \"500\"   \n",
       "\n",
       "   number_of_blocks  sum_of_block_time  blockStart  blockEnd  \\\n",
       "0                 2                  6          22        24   \n",
       "1                 2                  5          24        26   \n",
       "2                 2                  5          26        28   \n",
       "3                 2                  5          28        30   \n",
       "4                 2                  6          30        32   \n",
       "\n",
       "   block_per_second  txs_per_second  \n",
       "0            0.3333           16.67  \n",
       "1            0.4000           40.00  \n",
       "2            0.4000           60.00  \n",
       "3            0.4000           80.00  \n",
       "4            0.3333           83.33  "
      ]
     },
     "execution_count": 6,
     "metadata": {},
     "output_type": "execute_result"
    }
   ],
   "source": [
    "df.head()"
   ]
  },
  {
   "cell_type": "code",
   "execution_count": 7,
   "id": "2aa3a362-59e7-4d05-9352-745e376b055e",
   "metadata": {},
   "outputs": [
    {
     "ename": "AttributeError",
     "evalue": "'DataFrame' object has no attribute 'txs_per_sec'",
     "output_type": "error",
     "traceback": [
      "\u001b[0;31m---------------------------------------------------------------------------\u001b[0m",
      "\u001b[0;31mAttributeError\u001b[0m                            Traceback (most recent call last)",
      "Cell \u001b[0;32mIn [7], line 7\u001b[0m\n\u001b[1;32m      1\u001b[0m plt\u001b[38;5;241m.\u001b[39mrcParams[\u001b[38;5;124m'\u001b[39m\u001b[38;5;124mfigure.figsize\u001b[39m\u001b[38;5;124m'\u001b[39m] \u001b[38;5;241m=\u001b[39m [\u001b[38;5;241m60\u001b[39m, \u001b[38;5;241m20\u001b[39m]\n\u001b[1;32m      3\u001b[0m \u001b[38;5;66;03m# plt.plot(df.block, df.txs_per_sec)\u001b[39;00m\n\u001b[1;32m      4\u001b[0m \u001b[38;5;66;03m# plt.plot(df2.block, df2.txs_per_sec)\u001b[39;00m\n\u001b[0;32m----> 7\u001b[0m plt\u001b[38;5;241m.\u001b[39mplot(df\u001b[38;5;241m.\u001b[39mtxs_per_sec)\n\u001b[1;32m      8\u001b[0m plt\u001b[38;5;241m.\u001b[39mplot(df2\u001b[38;5;241m.\u001b[39mtxs_per_sec)\n",
      "File \u001b[0;32m~/.local/lib/python3.8/site-packages/pandas/core/generic.py:5907\u001b[0m, in \u001b[0;36mNDFrame.__getattr__\u001b[0;34m(self, name)\u001b[0m\n\u001b[1;32m   5900\u001b[0m \u001b[38;5;28;01mif\u001b[39;00m (\n\u001b[1;32m   5901\u001b[0m     name \u001b[38;5;129;01mnot\u001b[39;00m \u001b[38;5;129;01min\u001b[39;00m \u001b[38;5;28mself\u001b[39m\u001b[38;5;241m.\u001b[39m_internal_names_set\n\u001b[1;32m   5902\u001b[0m     \u001b[38;5;129;01mand\u001b[39;00m name \u001b[38;5;129;01mnot\u001b[39;00m \u001b[38;5;129;01min\u001b[39;00m \u001b[38;5;28mself\u001b[39m\u001b[38;5;241m.\u001b[39m_metadata\n\u001b[1;32m   5903\u001b[0m     \u001b[38;5;129;01mand\u001b[39;00m name \u001b[38;5;129;01mnot\u001b[39;00m \u001b[38;5;129;01min\u001b[39;00m \u001b[38;5;28mself\u001b[39m\u001b[38;5;241m.\u001b[39m_accessors\n\u001b[1;32m   5904\u001b[0m     \u001b[38;5;129;01mand\u001b[39;00m \u001b[38;5;28mself\u001b[39m\u001b[38;5;241m.\u001b[39m_info_axis\u001b[38;5;241m.\u001b[39m_can_hold_identifiers_and_holds_name(name)\n\u001b[1;32m   5905\u001b[0m ):\n\u001b[1;32m   5906\u001b[0m     \u001b[38;5;28;01mreturn\u001b[39;00m \u001b[38;5;28mself\u001b[39m[name]\n\u001b[0;32m-> 5907\u001b[0m \u001b[38;5;28;01mreturn\u001b[39;00m \u001b[38;5;28;43mobject\u001b[39;49m\u001b[38;5;241;43m.\u001b[39;49m\u001b[38;5;21;43m__getattribute__\u001b[39;49m\u001b[43m(\u001b[49m\u001b[38;5;28;43mself\u001b[39;49m\u001b[43m,\u001b[49m\u001b[43m \u001b[49m\u001b[43mname\u001b[49m\u001b[43m)\u001b[49m\n",
      "\u001b[0;31mAttributeError\u001b[0m: 'DataFrame' object has no attribute 'txs_per_sec'"
     ]
    }
   ],
   "source": [
    "plt.rcParams['figure.figsize'] = [60, 20]\n",
    "\n",
    "# plt.plot(df.block, df.txs_per_sec)\n",
    "# plt.plot(df2.block, df2.txs_per_sec)\n",
    "\n",
    "\n",
    "plt.plot(df.txs_per_second)\n",
    "plt.plot(df2.txs_per_second)\n"
   ]
  },
  {
   "cell_type": "code",
   "execution_count": null,
   "id": "ccec7e6d-654e-49b8-9e30-e1c71be67298",
   "metadata": {},
   "outputs": [],
   "source": []
  }
 ],
 "metadata": {
  "kernelspec": {
   "display_name": "Python 3 (ipykernel)",
   "language": "python",
   "name": "python3"
  },
  "language_info": {
   "codemirror_mode": {
    "name": "ipython",
    "version": 3
   },
   "file_extension": ".py",
   "mimetype": "text/x-python",
   "name": "python",
   "nbconvert_exporter": "python",
   "pygments_lexer": "ipython3",
   "version": "3.8.10"
  }
 },
 "nbformat": 4,
 "nbformat_minor": 5
}
